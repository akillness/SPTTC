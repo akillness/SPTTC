{
 "cells": [
  {
   "cell_type": "code",
   "execution_count": 40,
   "metadata": {},
   "outputs": [
    {
     "name": "stdout",
     "output_type": "stream",
     "text": [
      "junghyun\n",
      "M\n"
     ]
    }
   ],
   "source": [
    "\n",
    "import torch\n",
    "import os\n",
    "\n",
    "import practice.myRNN.rnn_train_to_generate_name as rnn_generate_name\n",
    "# print(os.getcwd())\n",
    "\n",
    "unique_chars = \"abcdefghijklmnopqrstuvwxyz\"\n",
    "sorted_char = sorted(set(''.join(unique_chars)))\n",
    "stoi = {s:i for i,s in enumerate(sorted_char)}\n",
    "stoi['<S>'] = len(stoi)\n",
    "stoi['<E>'] = len(stoi)\n",
    "itos = {i:s for i,s in enumerate(stoi)}\n",
    "\n",
    "\n",
    "n_letters = len(stoi)\n",
    "n_hidden = 1024\n",
    "rnn_model = rnn_generate_name.MyRNN(n_letters,n_hidden,n_letters)\n",
    "# rnn_model.load_state_dict(torch.load('./myRNN_generate.pt'))\n",
    "\n",
    "rnn_model = rnn_model.to(rnn_generate_name.device)\n",
    "\n",
    "rnn_generate_name.generateName(rnn_model,stoi,itos)"
   ]
  },
  {
   "cell_type": "markdown",
   "metadata": {},
   "source": []
  }
 ],
 "metadata": {
  "kernelspec": {
   "display_name": "trs",
   "language": "python",
   "name": "python3"
  },
  "language_info": {
   "codemirror_mode": {
    "name": "ipython",
    "version": 3
   },
   "file_extension": ".py",
   "mimetype": "text/x-python",
   "name": "python",
   "nbconvert_exporter": "python",
   "pygments_lexer": "ipython3",
   "version": "3.11.5"
  }
 },
 "nbformat": 4,
 "nbformat_minor": 2
}
