{
 "cells": [
  {
   "cell_type": "code",
   "execution_count": 7,
   "metadata": {},
   "outputs": [
    {
     "name": "stdout",
     "output_type": "stream",
     "text": [
      "junghyun\n",
      "M\n"
     ]
    }
   ],
   "source": [
    "\n",
    "# import torch\n",
    "\n",
    "# import pandas as pd\n",
    "# import os\n",
    "\n",
    "import rnn_train_to_classification as rnn_train_to_classification\n",
    "# print(os.getcwd())\n",
    "\n",
    "\n",
    "# df = pd.read_csv('./name_gender_filtered.csv')\n",
    "# unique_chars = set()\n",
    "\n",
    "# for name in df['Name']:\n",
    "#     unique_chars.update(name)\n",
    "    \n",
    "# unique_chars = sorted(list(unique_chars))\n",
    "# unique_chars = ''.join(unique_chars)\n",
    "# print(unique_chars)\n",
    "unique_chars = \"abcdefghijklmnopqrstuvwxyz\"\n",
    "\n",
    "test_name = 'junghyun' \n",
    "test_name_tensor = rnn_train_to_classification.nameToTensor(test_name,unique_chars)\n",
    "\n",
    "print(test_name)\n",
    "num2gen = {0:'F', 1:'M'}\n",
    "\n",
    "n_hidden = 32\n",
    "n_letters = len(unique_chars)\n",
    "rnn_model = rnn_train_to_classification.MyRNN(n_letters, n_hidden, 2)\n",
    "rnn_model.load_state_dict(torch.load('./myRNN.pt'))\n",
    "\n",
    "rnn_model = rnn_model.to(rnn_train_to_classification.device)\n",
    "\n",
    "rnn_model.eval()\n",
    "hidden = rnn_model.get_hidden()\n",
    "for char_idx in range(len(test_name)):\n",
    "    char_tensor = test_name_tensor[char_idx].to(rnn_train_to_classification.device)\n",
    "    output, hidden = rnn_model(char_tensor[None,:],hidden)\n",
    "predicted_index = torch.argmax(output, 1).item()\n",
    "print(num2gen[predicted_index])"
   ]
  },
  {
   "cell_type": "markdown",
   "metadata": {},
   "source": []
  }
 ],
 "metadata": {
  "kernelspec": {
   "display_name": "trs",
   "language": "python",
   "name": "python3"
  },
  "language_info": {
   "codemirror_mode": {
    "name": "ipython",
    "version": 3
   },
   "file_extension": ".py",
   "mimetype": "text/x-python",
   "name": "python",
   "nbconvert_exporter": "python",
   "pygments_lexer": "ipython3",
   "version": "3.11.5"
  }
 },
 "nbformat": 4,
 "nbformat_minor": 2
}
