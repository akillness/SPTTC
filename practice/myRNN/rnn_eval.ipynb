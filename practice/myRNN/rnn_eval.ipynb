{
 "cells": [
  {
   "cell_type": "code",
   "execution_count": 18,
   "metadata": {},
   "outputs": [
    {
     "ename": "ImportError",
     "evalue": "attempted relative import with no known parent package",
     "output_type": "error",
     "traceback": [
      "\u001b[0;31m---------------------------------------------------------------------------\u001b[0m",
      "\u001b[0;31mImportError\u001b[0m                               Traceback (most recent call last)",
      "Cell \u001b[0;32mIn[18], line 6\u001b[0m\n\u001b[1;32m      3\u001b[0m \u001b[38;5;28;01mimport\u001b[39;00m \u001b[38;5;21;01mpandas\u001b[39;00m \u001b[38;5;28;01mas\u001b[39;00m \u001b[38;5;21;01mpd\u001b[39;00m\n\u001b[1;32m      4\u001b[0m \u001b[38;5;28;01mimport\u001b[39;00m \u001b[38;5;21;01mos\u001b[39;00m\n\u001b[0;32m----> 6\u001b[0m \u001b[38;5;28;01mfrom\u001b[39;00m \u001b[38;5;21;01m.\u001b[39;00m\u001b[38;5;21;01mrnn_try\u001b[39;00m \u001b[38;5;28;01mimport\u001b[39;00m MyRNN, nameToTensor\n\u001b[1;32m      7\u001b[0m \u001b[38;5;66;03m# print(os.getcwd())\u001b[39;00m\n\u001b[1;32m     11\u001b[0m df \u001b[38;5;241m=\u001b[39m pd\u001b[38;5;241m.\u001b[39mread_csv(\u001b[38;5;124m'\u001b[39m\u001b[38;5;124m./name_gender_filtered.csv\u001b[39m\u001b[38;5;124m'\u001b[39m)\n",
      "\u001b[0;31mImportError\u001b[0m: attempted relative import with no known parent package"
     ]
    }
   ],
   "source": [
    "\n",
    "import torch\n",
    "\n",
    "import pandas as pd\n",
    "import os\n",
    "\n",
    "from .rnn_try import MyRNN, nameToTensor\n",
    "# print(os.getcwd())\n",
    "\n",
    "\n",
    "\n",
    "df = pd.read_csv('./name_gender_filtered.csv')\n",
    "unique_chars = set()\n",
    "\n",
    "for name in df['Name']:\n",
    "    unique_chars.update(name)\n",
    "    \n",
    "unique_chars = sorted(list(unique_chars))\n",
    "unique_chars = ''.join(unique_chars)\n",
    "print(unique_chars)\n",
    "\n",
    "test_name = 'elsa'\n",
    "test_name_tensor = nameToTensor(test_name,unique_chars)\n",
    "\n",
    "num2gen = {0:'F', 1:'M'}\n",
    "\n",
    "rnn_model = MyRNN()\n",
    "rnn_model.load_state_dict(torch.load('./practice/myRNN/myRNN.pt'))\n",
    "\n",
    "rnn_model.eval()\n",
    "hiddne = rnn_model.get_hidden()\n",
    "for char_idx in range(len(test_name)):\n",
    "    char_tensor = test_name_tensor[char_idx]\n",
    "    output, hidden = rnn_model(char_tensor[None,:],hidden)\n",
    "predicted_index = torch.argmax(output, 1).item()\n",
    "print(num2gen[predicted_index])"
   ]
  },
  {
   "cell_type": "markdown",
   "metadata": {},
   "source": []
  }
 ],
 "metadata": {
  "kernelspec": {
   "display_name": "trs",
   "language": "python",
   "name": "python3"
  },
  "language_info": {
   "codemirror_mode": {
    "name": "ipython",
    "version": 3
   },
   "file_extension": ".py",
   "mimetype": "text/x-python",
   "name": "python",
   "nbconvert_exporter": "python",
   "pygments_lexer": "ipython3",
   "version": "3.11.5"
  }
 },
 "nbformat": 4,
 "nbformat_minor": 2
}
