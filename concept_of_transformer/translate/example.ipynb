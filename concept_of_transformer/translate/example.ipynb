{
 "cells": [
  {
   "cell_type": "markdown",
   "metadata": {},
   "source": [
    "# 번역의 어휘나 분위기를 조절하려면 Fine-Tuning 없이도 적용 가능한 여러 기법을 활용할 수 있음\n",
    "1. 입력텍스트에 페르소나 힌트 추가\n",
    "2. 디코더 파라미터 추가 < 큰차이는 없을 수 있음>\n",
    "   1. num_beams=5,           # 더 정확한 후보 탐색\n",
    "   2. temperature=0.7,       # 보수적 어조\n",
    "   3. repetition_penalty=1.2, # 반복 단어 감소\n",
    "4. 후처리 (Post-processing): 규칙기반 어휘 처리\n",
    "5. 하이브리드 파이프라인 구축\n",
    "   1. Translate 로 기본 번역 수행\n",
    "   2. 별도의 분류 모델로 페르소나 판단 (예: Formal/ Casual 분류)\n",
    "   3. 판단한 결과에 따라 후처리 "
   ]
  },
  {
   "cell_type": "code",
   "execution_count": 20,
   "metadata": {},
   "outputs": [],
   "source": [
    "from transformers import AutoTokenizer, AutoModelForSeq2SeqLM\n",
    "\n",
    "# 모델과 토크나이저 로드\n",
    "tokenizer = AutoTokenizer.from_pretrained(\"facebook/nllb-200-distilled-600M\",cache_dir='translate/')\n",
    "model = AutoModelForSeq2SeqLM.from_pretrained(\"facebook/nllb-200-distilled-600M\",cache_dir='translate/')\n",
    "\n",
    "def translate(input_text):\n",
    "    inputs = tokenizer(input_text, return_tensors=\"pt\")\n",
    "    translated_tokens = model.generate(\n",
    "        **inputs,\n",
    "        do_sample = True,        \n",
    "        num_beams=5,           # 더 정확한 후보 탐색\n",
    "        temperature=0.7,       # 보수적 어조\n",
    "        repetition_penalty=1.2, # 반복 단어 감소\n",
    "        max_length=100,\n",
    "        # 언어 코드 ID 변환\n",
    "        forced_bos_token_id=tokenizer.convert_tokens_to_ids(\"kor_Hang\"),  # 한국어 타겟 설정, deu_Latn, eng_Latn\n",
    "    )\n",
    "    # 번역된 텍스트 디코딩\n",
    "    return tokenizer.batch_decode(translated_tokens, skip_special_tokens=True)[0]\n"
   ]
  },
  {
   "cell_type": "code",
   "execution_count": 9,
   "metadata": {},
   "outputs": [
    {
     "name": "stdout",
     "output_type": "stream",
     "text": [
      "[공식], 안녕하세요?\n"
     ]
    }
   ],
   "source": [
    "input_text = \"[Formal], how are you?\" # [Formal], [Casual], [Slang], [Business] 등 힌트\n",
    "print(translate(input_text))  # \"안녕하세요, 잘 지내시나요?\""
   ]
  },
  {
   "cell_type": "code",
   "execution_count": 11,
   "metadata": {},
   "outputs": [
    {
     "name": "stdout",
     "output_type": "stream",
     "text": [
      "[공식], 안녕하세요?\n"
     ]
    }
   ],
   "source": [
    "input_text = \"[Formal], how are you?\" # [Formal], [Casual], [Slang], [Business] 등 힌트\n",
    "print(translate(input_text))  # \"안녕하세요, 잘 지내시나요?\""
   ]
  },
  {
   "cell_type": "code",
   "execution_count": 60,
   "metadata": {},
   "outputs": [],
   "source": [
    "import copy\n",
    "# 더 확장된 버전 (추가 규칙 필요시)\n",
    "def formalize_korean(text):\n",
    "    replacements = {\n",
    "        \"있어\": \"있당께요\",\n",
    "        \"있었어\": \"있었습니다\",\n",
    "        \"좀\": \"조금\",          # 구어체 → 격식체\n",
    "        \"걍\": \"그냥\",          # 슬랭 대체\n",
    "        \"~요\": \"~니다\",      # 어미 변환(예: \"가요\" → \"갑니다\")\n",
    "        \"네요\": \"습니다\"       # \"합니다네요\" → \"합니다습니다\" 방지를 위해 순서 조정 필요\n",
    "    }\n",
    "    result = copy.deepcopy(text)\n",
    "    for informal, formal in replacements.items():        \n",
    "        result = result.replace(informal, formal)\n",
    "        \n",
    "    return result"
   ]
  },
  {
   "cell_type": "code",
   "execution_count": null,
   "metadata": {},
   "outputs": [
    {
     "name": "stdout",
     "output_type": "stream",
     "text": [
      "헨리, 난 거기 가야 할 문제가 있어\n",
      "헨리, 난 거기 가야 할 문제가 있당께요\n"
     ]
    }
   ],
   "source": [
    "input_text = \"Henry, i have some problem that i must have to go there\" # [Formal], [Casual], [Slang], [Business] 등 힌트\n",
    "translated = translate(input_text)\n",
    "formal_translated = formalize_korean(translated)\n",
    "print(translated)\n",
    "print(formal_translated)"
   ]
  },
  {
   "cell_type": "code",
   "execution_count": null,
   "metadata": {},
   "outputs": [],
   "source": []
  }
 ],
 "metadata": {
  "kernelspec": {
   "display_name": "dseek",
   "language": "python",
   "name": "python3"
  },
  "language_info": {
   "codemirror_mode": {
    "name": "ipython",
    "version": 3
   },
   "file_extension": ".py",
   "mimetype": "text/x-python",
   "name": "python",
   "nbconvert_exporter": "python",
   "pygments_lexer": "ipython3",
   "version": "3.11.5"
  }
 },
 "nbformat": 4,
 "nbformat_minor": 2
}
